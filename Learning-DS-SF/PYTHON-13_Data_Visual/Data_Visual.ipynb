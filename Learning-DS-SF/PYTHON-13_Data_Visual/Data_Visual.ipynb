{
 "cells": [
  {
   "attachments": {},
   "cell_type": "markdown",
   "metadata": {},
   "source": [
    "Цели данного модуля:\n",
    "\n",
    "- Познакомиться с различными способами графического представления данных.\n",
    "- Освоить основные методы визуализации библиотек Matplotlib и Pandas.\n",
    "- Научиться настраивать диаграммы в Matplotlib для повышения их информативности.\n",
    "- Освоить основные методы визуализации библиотеки Seaborn.\n",
    "- Освоить базовые методы интерактивной визуализации и анимации библиотеки Plotly.\n",
    "- Научиться выбирать правильные методы визуализации для конкретных задач.\n",
    "\n",
    "## ЗАЧЕМ НУЖНА ВИЗУАЛИЗАЦИЯ?\n",
    "\n",
    "Лучший способ отобразить информацию и донести её до других — использовать визуальные методы: графики, диаграммы, тепловые карты и другие приёмы визуализации данных.\n",
    "\n",
    "\n",
    "    Но в чём преимущество такого варианта представления информации? Не проще ли вставить в годовой отчёт о продажах компании большую таблицу, в которой и можно найти все показатели?\n",
    "\n",
    "Приведём главные причины использования визуализации:"
   ]
  },
  {
   "attachments": {},
   "cell_type": "markdown",
   "metadata": {},
   "source": [
    "Визуальное восприятие физиологически является для человека основным.\n",
    "\n",
    "    По данным учёных (причём не только британских!), с помощью зрения человек получает около 80 % информации.\n",
    "\n",
    "    Что касается процессов запоминания, то из услышанного человек запоминает в среднем 10 %, из прочитанного — 20 %, а из увиденного — 80 %."
   ]
  },
  {
   "cell_type": "code",
   "execution_count": 1,
   "metadata": {},
   "outputs": [
    {
     "ename": "ModuleNotFoundError",
     "evalue": "No module named 'matplotlib'",
     "output_type": "error",
     "traceback": [
      "\u001b[1;31m---------------------------------------------------------------------------\u001b[0m",
      "\u001b[1;31mModuleNotFoundError\u001b[0m                       Traceback (most recent call last)",
      "Cell \u001b[1;32mIn[1], line 1\u001b[0m\n\u001b[1;32m----> 1\u001b[0m \u001b[39mimport\u001b[39;00m \u001b[39mmatplotlib\u001b[39;00m\u001b[39m.\u001b[39;00m\u001b[39mpyplot\u001b[39;00m \u001b[39mas\u001b[39;00m \u001b[39mplt\u001b[39;00m\n\u001b[0;32m      2\u001b[0m \u001b[39mimport\u001b[39;00m \u001b[39mseaborn\u001b[39;00m \u001b[39mas\u001b[39;00m \u001b[39msns\u001b[39;00m\n\u001b[0;32m      3\u001b[0m \u001b[39mimport\u001b[39;00m \u001b[39mpandas\u001b[39;00m \u001b[39mas\u001b[39;00m \u001b[39mpd\u001b[39;00m\n",
      "\u001b[1;31mModuleNotFoundError\u001b[0m: No module named 'matplotlib'"
     ]
    }
   ],
   "source": [
    "import matplotlib.pyplot as plt\n",
    "import seaborn as sns\n",
    "import pandas as pd\n",
    "\n",
    "vg_data = pd.read_csv('data/vgsales.csv')\n",
    "dinamic_by_region = vg_data[\n",
    "        ['NA_Sales', 'EU_Sales', 'JP_Sales', 'Other_Sales', 'Global_Sales', 'Year_of_Release']\n",
    "    ].groupby('Year_of_Release').sum()\n",
    "\n",
    "fig = plt.figure(figsize=(12, 6))\n",
    "lineplot = sns.lineplot(data=dinamic_by_region)\n",
    "lineplot.set_title('Динамика продаж видеоигр', fontsize=16)\n",
    "lineplot.set_xlabel('Год выпуска')\n",
    "lineplot.set_ylabel('Суммарный объём продаж')"
   ]
  }
 ],
 "metadata": {
  "kernelspec": {
   "display_name": "Python 3",
   "language": "python",
   "name": "python3"
  },
  "language_info": {
   "codemirror_mode": {
    "name": "ipython",
    "version": 3
   },
   "file_extension": ".py",
   "mimetype": "text/x-python",
   "name": "python",
   "nbconvert_exporter": "python",
   "pygments_lexer": "ipython3",
   "version": "3.11.0"
  },
  "orig_nbformat": 4
 },
 "nbformat": 4,
 "nbformat_minor": 2
}

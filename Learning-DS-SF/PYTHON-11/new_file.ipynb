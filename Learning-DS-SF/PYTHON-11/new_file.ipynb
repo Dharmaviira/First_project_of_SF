{
 "cells": [
  {
   "cell_type": "code",
   "execution_count": 5,
   "metadata": {},
   "outputs": [],
   "source": [
    "import pandas as pd \n",
    "\n",
    "citybike = pd.read_csv('data/citibike-tripdata.csv', sep=',')\n",
    "\n",
    "\n",
    "citybike['starttime'] = pd.to_datetime(citybike['starttime'], dayfirst=True)\n",
    "\n",
    "# citybike['stoptime'] = pd.to_datetime(citybike['stoptime'], yearfirst=True)\n",
    "# citybike['trip duration'] = citybike['stoptime'] - citybike['starttime']\n",
    "# display(citybike['trip duration'])\n"
   ]
  },
  {
   "cell_type": "code",
   "execution_count": 6,
   "metadata": {},
   "outputs": [
    {
     "data": {
      "text/plain": [
       "0"
      ]
     },
     "execution_count": 6,
     "metadata": {},
     "output_type": "execute_result"
    }
   ],
   "source": [
    "\n",
    "weekday = citybike['starttime'].dt.dayofweek\n",
    "citybike['weekend'] = weekday.apply(lambda x: 1 if x ==5 or x == 6 else 0)\n",
    "\n",
    "citybike['weekend'].sum()\n"
   ]
  }
 ],
 "metadata": {
  "kernelspec": {
   "display_name": "Python 3",
   "language": "python",
   "name": "python3"
  },
  "language_info": {
   "codemirror_mode": {
    "name": "ipython",
    "version": 3
   },
   "file_extension": ".py",
   "mimetype": "text/x-python",
   "name": "python",
   "nbconvert_exporter": "python",
   "pygments_lexer": "ipython3",
   "version": "3.11.0"
  },
  "orig_nbformat": 4
 },
 "nbformat": 4,
 "nbformat_minor": 2
}
